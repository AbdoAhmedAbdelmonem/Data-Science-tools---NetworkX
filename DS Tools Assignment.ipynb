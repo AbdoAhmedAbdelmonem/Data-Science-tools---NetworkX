{
 "cells": [
  {
   "metadata": {},
   "cell_type": "markdown",
   "source": [
    "<link rel=\"preconnect\" href=\"https://fonts.googleapis.com\">\n",
    "<link rel=\"preconnect\" href=\"https://fonts.gstatic.com\" crossorigin>\n",
    "<link href=\"https://fonts.googleapis.com/css2?family=Audiowide&display=swap\" rel=\"stylesheet\">\n",
    "<!-- Cyberpunk Animated Title -->\n",
    "<h1 style=\"\n",
    "    font-size: 60px;\n",
    "    font-weight: bold;\n",
    "    text-align:center;\n",
    "    text-transform: uppercase;\n",
    "    color: #0ff;\n",
    "    font-family: Audiowide, sans-serif;\n",
    "\"> D S T - A S S I G N M E N T</h1>\n",
    "\n",
    "<p style=\"\n",
    "    font-size: 20px;\n",
    "    color: #ff00ff;\n",
    "    text-align:center;\n",
    "    font-family: Audiowide, sans-serif;\n",
    "\">Enter the Grid.\n",
    "Write the Future.</p>\n",
    "<h4 style=\"text-align:center;font-family: Audiowide, sans-serif;\">Powered By Chameleon Technologies</h4>\n",
    "<style>\n",
    "@keyframes neonGlow {\n",
    "    from { text-shadow: 0 0 5px #0ff, 0 0 10px #0ff, 0 0 20px #0ff; }\n",
    "    to { text-shadow: 0 0 10px #0ff, 0 0 20px #0ff, 0 0 40px #0ff; }\n",
    "}\n",
    "\n",
    "@keyframes neonGlowPurple {\n",
    "    from { text-shadow: 0 0 5px #ff00ff, 0 0 10px #ff00ff, 0 0 20px #ff00ff; }\n",
    "    to { text-shadow: 0 0 10px #ff00ff, 0 0 20px #ff00ff, 0 0 40px #ff00ff; }\n",
    "}\n",
    "</style>"
   ],
   "id": "ab71ea3a03947675"
  },
  {
   "metadata": {},
   "cell_type": "markdown",
   "source": [
    "---\n",
    "All what you want deployed on Github : https://github.com/AbdoAhmedAbdelmonem/Data-Science-tools---NetworkX\n",
    "\n",
    "---\n",
    "## Course Scheduling Analysis using Graph Coloring\n",
    "\n",
    "This notebook analyzes `course scheduling` conflicts by modeling `courses as nodes` and `student enrollments as edges` in a graph. We then use graph coloring algorithms `to find the minimum number of time periods needed to schedule courses without conflicts.`\n",
    "\n",
    " ---"
   ],
   "id": "2a6d859a8dbafc3d"
  },
  {
   "cell_type": "code",
   "id": "initial_id",
   "metadata": {
    "collapsed": true,
    "ExecuteTime": {
     "end_time": "2025-04-05T22:52:36.919789Z",
     "start_time": "2025-04-05T22:52:36.916804Z"
    }
   },
   "source": [
    "import pandas as pd\n",
    "import networkx as nx\n",
    "from itertools import combinations\n",
    "import matplotlib.pyplot as plt"
   ],
   "outputs": [],
   "execution_count": 10
  },
  {
   "metadata": {},
   "cell_type": "markdown",
   "source": [
    "---\n",
    "\n",
    "## 1. Data Loading and Preparation\n",
    "<p style=\"\n",
    "    font-family: monospace;\n",
    "    color: #00ff9d;\n",
    "    animation: textFlicker 5s linear infinite;\n",
    "  \">\n",
    "    > Load all sheets from the Excel file\n",
    "  </p>"
   ],
   "id": "33c228f0b1d6548a"
  },
  {
   "metadata": {
    "ExecuteTime": {
     "end_time": "2025-04-05T22:52:38.932243Z",
     "start_time": "2025-04-05T22:52:36.961232Z"
    }
   },
   "cell_type": "code",
   "source": [
    "all_sheets = pd.read_excel(\"studentcoursesedit.xlsx\", sheet_name=None)\n",
    "\n",
    "df = pd.concat(all_sheets.values(), ignore_index=True)\n",
    "\n",
    "# Rename columns to English for easier handling\n",
    "df = df.rename(columns={\n",
    "    \"رقم الطالب\": \"Student ID\",\n",
    "    \"اسم الطالب\": \"Student Name\",\n",
    "    \"التخصص\": \"Specialization\",\n",
    "    \"رقم المقرر\": \"Course Code\",\n",
    "    \"اسم المقرر\": \"Course Name\",\n",
    "    \"رمز المقرر\": \"Course Symbol\",\n",
    "    \"رقم الشعبة\": \"Branch Number\"\n",
    "})\n",
    "\n",
    "# Drop unnecessary column\n",
    "df = df.drop([\"م\"], axis=1)\n",
    "print(f\"Number of unique courses: {len(df['Course Name'].drop_duplicates())}\")\n",
    "\n",
    "df"
   ],
   "id": "41ba15dbfeca38bc",
   "outputs": [
    {
     "name": "stdout",
     "output_type": "stream",
     "text": [
      "Number of unique courses: 461\n"
     ]
    },
    {
     "data": {
      "text/plain": [
       "       Student ID                    Student Name    Specialization  \\\n",
       "0      1105312002  عبدالمجيد علي عبدالرحمن الشاوي  السجلات الطبية-2   \n",
       "1      1105311013          سالم سليمان دهش الشمري  السجلات الطبية-2   \n",
       "2      1105312004        احمد عبدالله صالح الحربي  السجلات الطبية-2   \n",
       "3      1105321021      يوسف عبدالله سليمان المهوس  السجلات الطبية-2   \n",
       "4      1105312011          سطام بندر جايز المطيري  السجلات الطبية-2   \n",
       "...           ...                             ...               ...   \n",
       "11098  1501311010    أحمد عبدالعزيز محمد العبيدان      هندسة الحاسب   \n",
       "11099  1401321075           صالح محمد صالح الرميح       علوم الحاسب   \n",
       "11100  1502301005           يزيد محمد صالح الهجرس       علوم حاسب-1   \n",
       "11101  1502312010     محمد عبدالله محيميد العريني       علوم الحاسب   \n",
       "11102  1502312003          صالح أحمد صالح المعتاز       علوم الحاسب   \n",
       "\n",
       "       Course Code       Course Name Course Symbol  Branch Number  \n",
       "0           110501  المهارات اللغوية      ARAB 101         211637  \n",
       "1           110501  المهارات اللغوية      ARAB 101         211637  \n",
       "2           110511    التحرير العربي      ARAB 102         111647  \n",
       "3           110511    التحرير العربي      ARAB 102         211647  \n",
       "4           110511    التحرير العربي      ARAB 102         211647  \n",
       "...            ...               ...           ...            ...  \n",
       "11098       150147   هندسة البرمجيات        342عال         215153  \n",
       "11099       150147   هندسة البرمجيات        342عال         115152  \n",
       "11100       150147   هندسة البرمجيات        342عال         115155  \n",
       "11101       150147   هندسة البرمجيات        342عال         115152  \n",
       "11102       150147   هندسة البرمجيات        342عال         115152  \n",
       "\n",
       "[11103 rows x 7 columns]"
      ],
      "text/html": [
       "<div>\n",
       "<style scoped>\n",
       "    .dataframe tbody tr th:only-of-type {\n",
       "        vertical-align: middle;\n",
       "    }\n",
       "\n",
       "    .dataframe tbody tr th {\n",
       "        vertical-align: top;\n",
       "    }\n",
       "\n",
       "    .dataframe thead th {\n",
       "        text-align: right;\n",
       "    }\n",
       "</style>\n",
       "<table border=\"1\" class=\"dataframe\">\n",
       "  <thead>\n",
       "    <tr style=\"text-align: right;\">\n",
       "      <th></th>\n",
       "      <th>Student ID</th>\n",
       "      <th>Student Name</th>\n",
       "      <th>Specialization</th>\n",
       "      <th>Course Code</th>\n",
       "      <th>Course Name</th>\n",
       "      <th>Course Symbol</th>\n",
       "      <th>Branch Number</th>\n",
       "    </tr>\n",
       "  </thead>\n",
       "  <tbody>\n",
       "    <tr>\n",
       "      <th>0</th>\n",
       "      <td>1105312002</td>\n",
       "      <td>عبدالمجيد علي عبدالرحمن الشاوي</td>\n",
       "      <td>السجلات الطبية-2</td>\n",
       "      <td>110501</td>\n",
       "      <td>المهارات اللغوية</td>\n",
       "      <td>ARAB 101</td>\n",
       "      <td>211637</td>\n",
       "    </tr>\n",
       "    <tr>\n",
       "      <th>1</th>\n",
       "      <td>1105311013</td>\n",
       "      <td>سالم سليمان دهش الشمري</td>\n",
       "      <td>السجلات الطبية-2</td>\n",
       "      <td>110501</td>\n",
       "      <td>المهارات اللغوية</td>\n",
       "      <td>ARAB 101</td>\n",
       "      <td>211637</td>\n",
       "    </tr>\n",
       "    <tr>\n",
       "      <th>2</th>\n",
       "      <td>1105312004</td>\n",
       "      <td>احمد عبدالله صالح الحربي</td>\n",
       "      <td>السجلات الطبية-2</td>\n",
       "      <td>110511</td>\n",
       "      <td>التحرير العربي</td>\n",
       "      <td>ARAB 102</td>\n",
       "      <td>111647</td>\n",
       "    </tr>\n",
       "    <tr>\n",
       "      <th>3</th>\n",
       "      <td>1105321021</td>\n",
       "      <td>يوسف عبدالله سليمان المهوس</td>\n",
       "      <td>السجلات الطبية-2</td>\n",
       "      <td>110511</td>\n",
       "      <td>التحرير العربي</td>\n",
       "      <td>ARAB 102</td>\n",
       "      <td>211647</td>\n",
       "    </tr>\n",
       "    <tr>\n",
       "      <th>4</th>\n",
       "      <td>1105312011</td>\n",
       "      <td>سطام بندر جايز المطيري</td>\n",
       "      <td>السجلات الطبية-2</td>\n",
       "      <td>110511</td>\n",
       "      <td>التحرير العربي</td>\n",
       "      <td>ARAB 102</td>\n",
       "      <td>211647</td>\n",
       "    </tr>\n",
       "    <tr>\n",
       "      <th>...</th>\n",
       "      <td>...</td>\n",
       "      <td>...</td>\n",
       "      <td>...</td>\n",
       "      <td>...</td>\n",
       "      <td>...</td>\n",
       "      <td>...</td>\n",
       "      <td>...</td>\n",
       "    </tr>\n",
       "    <tr>\n",
       "      <th>11098</th>\n",
       "      <td>1501311010</td>\n",
       "      <td>أحمد عبدالعزيز محمد العبيدان</td>\n",
       "      <td>هندسة الحاسب</td>\n",
       "      <td>150147</td>\n",
       "      <td>هندسة البرمجيات</td>\n",
       "      <td>342عال</td>\n",
       "      <td>215153</td>\n",
       "    </tr>\n",
       "    <tr>\n",
       "      <th>11099</th>\n",
       "      <td>1401321075</td>\n",
       "      <td>صالح محمد صالح الرميح</td>\n",
       "      <td>علوم الحاسب</td>\n",
       "      <td>150147</td>\n",
       "      <td>هندسة البرمجيات</td>\n",
       "      <td>342عال</td>\n",
       "      <td>115152</td>\n",
       "    </tr>\n",
       "    <tr>\n",
       "      <th>11100</th>\n",
       "      <td>1502301005</td>\n",
       "      <td>يزيد محمد صالح الهجرس</td>\n",
       "      <td>علوم حاسب-1</td>\n",
       "      <td>150147</td>\n",
       "      <td>هندسة البرمجيات</td>\n",
       "      <td>342عال</td>\n",
       "      <td>115155</td>\n",
       "    </tr>\n",
       "    <tr>\n",
       "      <th>11101</th>\n",
       "      <td>1502312010</td>\n",
       "      <td>محمد عبدالله محيميد العريني</td>\n",
       "      <td>علوم الحاسب</td>\n",
       "      <td>150147</td>\n",
       "      <td>هندسة البرمجيات</td>\n",
       "      <td>342عال</td>\n",
       "      <td>115152</td>\n",
       "    </tr>\n",
       "    <tr>\n",
       "      <th>11102</th>\n",
       "      <td>1502312003</td>\n",
       "      <td>صالح أحمد صالح المعتاز</td>\n",
       "      <td>علوم الحاسب</td>\n",
       "      <td>150147</td>\n",
       "      <td>هندسة البرمجيات</td>\n",
       "      <td>342عال</td>\n",
       "      <td>115152</td>\n",
       "    </tr>\n",
       "  </tbody>\n",
       "</table>\n",
       "<p>11103 rows × 7 columns</p>\n",
       "</div>"
      ]
     },
     "execution_count": 11,
     "metadata": {},
     "output_type": "execute_result"
    }
   ],
   "execution_count": 11
  },
  {
   "metadata": {},
   "cell_type": "markdown",
   "source": [
    "---\n",
    "## 2. Data Processing\n"
   ],
   "id": "7925a92a5c516e92"
  },
  {
   "metadata": {
    "ExecuteTime": {
     "end_time": "2025-04-05T22:52:38.994475Z",
     "start_time": "2025-04-05T22:52:38.983157Z"
    }
   },
   "cell_type": "code",
   "source": [
    "df_unique = df[[\"Course Symbol\", \"Course Name\"]].drop_duplicates()\n",
    "df_unique = df_unique.set_index(\"Course Symbol\")\n",
    "\n",
    "# Count students per course\n",
    "df_grouped_by_Symbol = df[[\"Student Name\", \"Course Symbol\"]].set_index(\"Course Symbol\")\n",
    "df_grouped_by_Symbol = df_grouped_by_Symbol.groupby(\"Course Symbol\").count()\n",
    "df_joint = df_unique.join(df_grouped_by_Symbol, on=\"Course Symbol\")\n",
    "\n",
    "# Rename columns for clarity\n",
    "df_part1 = df_joint.rename(columns={\"Student Name\": \"Number of Students\"})\n",
    "df_part1"
   ],
   "id": "ee5fe0b2fbd34727",
   "outputs": [
    {
     "data": {
      "text/plain": [
       "                                Course Name  Number of Students\n",
       "Course Symbol                                                  \n",
       "ARAB 101                   المهارات اللغوية                   6\n",
       "ARAB 102                     التحرير العربي                   4\n",
       "BIOL 101                            Biology                   1\n",
       "ISLM 103        النظام الإقتصادي في الإسلام                   1\n",
       "ENGL 102                 English Language 2                   3\n",
       "...                                     ...                 ...\n",
       "493عال         مواضيع مختارة في علوم الحاسب                   1\n",
       "عال 339                       نظرية الحوسبة                   2\n",
       "227عال                          نظم التشغيل                   7\n",
       "381عال             نظم إدارة قواعد البيانات                   1\n",
       "342عال                      هندسة البرمجيات                  23\n",
       "\n",
       "[486 rows x 2 columns]"
      ],
      "text/html": [
       "<div>\n",
       "<style scoped>\n",
       "    .dataframe tbody tr th:only-of-type {\n",
       "        vertical-align: middle;\n",
       "    }\n",
       "\n",
       "    .dataframe tbody tr th {\n",
       "        vertical-align: top;\n",
       "    }\n",
       "\n",
       "    .dataframe thead th {\n",
       "        text-align: right;\n",
       "    }\n",
       "</style>\n",
       "<table border=\"1\" class=\"dataframe\">\n",
       "  <thead>\n",
       "    <tr style=\"text-align: right;\">\n",
       "      <th></th>\n",
       "      <th>Course Name</th>\n",
       "      <th>Number of Students</th>\n",
       "    </tr>\n",
       "    <tr>\n",
       "      <th>Course Symbol</th>\n",
       "      <th></th>\n",
       "      <th></th>\n",
       "    </tr>\n",
       "  </thead>\n",
       "  <tbody>\n",
       "    <tr>\n",
       "      <th>ARAB 101</th>\n",
       "      <td>المهارات اللغوية</td>\n",
       "      <td>6</td>\n",
       "    </tr>\n",
       "    <tr>\n",
       "      <th>ARAB 102</th>\n",
       "      <td>التحرير العربي</td>\n",
       "      <td>4</td>\n",
       "    </tr>\n",
       "    <tr>\n",
       "      <th>BIOL 101</th>\n",
       "      <td>Biology</td>\n",
       "      <td>1</td>\n",
       "    </tr>\n",
       "    <tr>\n",
       "      <th>ISLM 103</th>\n",
       "      <td>النظام الإقتصادي في الإسلام</td>\n",
       "      <td>1</td>\n",
       "    </tr>\n",
       "    <tr>\n",
       "      <th>ENGL 102</th>\n",
       "      <td>English Language 2</td>\n",
       "      <td>3</td>\n",
       "    </tr>\n",
       "    <tr>\n",
       "      <th>...</th>\n",
       "      <td>...</td>\n",
       "      <td>...</td>\n",
       "    </tr>\n",
       "    <tr>\n",
       "      <th>493عال</th>\n",
       "      <td>مواضيع مختارة في علوم الحاسب</td>\n",
       "      <td>1</td>\n",
       "    </tr>\n",
       "    <tr>\n",
       "      <th>عال 339</th>\n",
       "      <td>نظرية الحوسبة</td>\n",
       "      <td>2</td>\n",
       "    </tr>\n",
       "    <tr>\n",
       "      <th>227عال</th>\n",
       "      <td>نظم التشغيل</td>\n",
       "      <td>7</td>\n",
       "    </tr>\n",
       "    <tr>\n",
       "      <th>381عال</th>\n",
       "      <td>نظم إدارة قواعد البيانات</td>\n",
       "      <td>1</td>\n",
       "    </tr>\n",
       "    <tr>\n",
       "      <th>342عال</th>\n",
       "      <td>هندسة البرمجيات</td>\n",
       "      <td>23</td>\n",
       "    </tr>\n",
       "  </tbody>\n",
       "</table>\n",
       "<p>486 rows × 2 columns</p>\n",
       "</div>"
      ]
     },
     "execution_count": 12,
     "metadata": {},
     "output_type": "execute_result"
    }
   ],
   "execution_count": 12
  },
  {
   "metadata": {},
   "cell_type": "markdown",
   "source": [
    "---\n",
    "## 3. Graph Construction"
   ],
   "id": "a98c65fcde303bde"
  },
  {
   "metadata": {
    "ExecuteTime": {
     "end_time": "2025-04-05T22:52:39.279593Z",
     "start_time": "2025-04-05T22:52:39.073545Z"
    }
   },
   "cell_type": "code",
   "source": [
    "student_course_pairs = [(row['Student Name'], row['Course Symbol']) for index, row in df.iterrows()]\n",
    "\n",
    "# Create dictionary of students and their courses\n",
    "final_dict = {}\n",
    "for student, course in student_course_pairs:\n",
    "    if student not in final_dict:\n",
    "        final_dict[student] = []\n",
    "    final_dict[student].append(course)\n",
    "\n",
    "# Build the graph\n",
    "Graph = nx.Graph()\n",
    "\n",
    "# Generate all possible course pairs that share students\n",
    "generated_pairs = []\n",
    "for courses in final_dict.values():\n",
    "    generated_pairs.extend(combinations(courses, 2))\n",
    "\n",
    "# Add edges to the graph\n",
    "Graph.add_edges_from(generated_pairs)\n",
    "\n",
    "# Print graph statistics\n",
    "print(\"Number of Edges:\", Graph.number_of_edges())\n",
    "print(\"Number of Nodes:\", Graph.number_of_nodes())"
   ],
   "id": "56f0bbb709e7e0cb",
   "outputs": [
    {
     "name": "stdout",
     "output_type": "stream",
     "text": [
      "Number of Edges: 5311\n",
      "Number of Nodes: 479\n"
     ]
    }
   ],
   "execution_count": 13
  },
  {
   "metadata": {},
   "cell_type": "markdown",
   "source": [
    "---\n",
    "## 4. Graph Coloring Analysis\n",
    "\n",
    "<p style=\"\n",
    "    font-family: monospace;\n",
    "    color: #00ff9d;\n",
    "    animation: textFlicker 5s linear infinite;\n",
    "  \">\n",
    "    > Graph Coloring Comparison...\n",
    "  </p>"
   ],
   "id": "b27ad376270712b7"
  },
  {
   "metadata": {
    "ExecuteTime": {
     "end_time": "2025-04-05T22:52:39.302854Z",
     "start_time": "2025-04-05T22:52:39.299386Z"
    }
   },
   "cell_type": "code",
   "source": [
    "def analyze_coloring(strategy_name, coloring_func):\n",
    "    \"\"\"Helper function to analyze each coloring strategy\"\"\"\n",
    "    coloring = coloring_func(Graph)\n",
    "    df = pd.DataFrame(list(coloring.items()), columns=[\"Course Symbol\", \"Period\"])\n",
    "    df = df.astype({\"Course Symbol\": str, \"Period\": int})\n",
    "\n",
    "    max_period = df[\"Period\"].max()\n",
    "    max_courses = df[df[\"Period\"] == max_period]\n",
    "\n",
    "    print(f\"\\n{strategy_name} Results:\")\n",
    "    print(f\"Number of periods needed: {max_period + 1}\")\n",
    "    print(f\"Courses in final period ({max_period}):\")\n",
    "    print(max_courses.to_string(index=False))\n",
    "\n",
    "    return df"
   ],
   "id": "b441b8ad593ade1f",
   "outputs": [],
   "execution_count": 14
  },
  {
   "metadata": {},
   "cell_type": "markdown",
   "source": [
    "---\n",
    "## Analyze all three strategies"
   ],
   "id": "4b4ccf17dfe4b15e"
  },
  {
   "metadata": {
    "ExecuteTime": {
     "end_time": "2025-04-05T22:52:39.413862Z",
     "start_time": "2025-04-05T22:52:39.393915Z"
    }
   },
   "cell_type": "code",
   "source": [
    "strategies = [\n",
    "    (\"Connected Sequential BFS\", lambda G: nx.coloring.greedy_color(G, strategy=\"connected_sequential_bfs\")),\n",
    "    (\"Largest First\", lambda G: nx.coloring.greedy_color(G, strategy=\"largest_first\")),\n",
    "    (\"Connected Sequential DFS\", lambda G: nx.coloring.greedy_color(G, strategy=\"connected_sequential_dfs\"))\n",
    "]\n",
    "\n",
    "results = {}\n",
    "for name, func in strategies:\n",
    "    results[name] = analyze_coloring(name, func)\n",
    "\n",
    "comparison = pd.DataFrame({\n",
    "    'Strategy': [name for name, _ in strategies],\n",
    "    'Periods Needed': [results[name]['Period'].max() + 1 for name in results],\n",
    "    'Courses in Final Period': [len(results[name][results[name]['Period'] == results[name]['Period'].max()])\n",
    "                              for name in results]\n",
    "})"
   ],
   "id": "48aa3d41e029ab30",
   "outputs": [
    {
     "name": "stdout",
     "output_type": "stream",
     "text": [
      "\n",
      "Connected Sequential BFS Results:\n",
      "Number of periods needed: 22\n",
      "Courses in final period (21):\n",
      "Course Symbol  Period\n",
      "      224 دوي      21\n",
      "\n",
      "Largest First Results:\n",
      "Number of periods needed: 21\n",
      "Courses in final period (20):\n",
      "Course Symbol  Period\n",
      "      420 صكل      20\n",
      "\n",
      "Connected Sequential DFS Results:\n",
      "Number of periods needed: 22\n",
      "Courses in final period (21):\n",
      "Course Symbol  Period\n",
      "      418 دوي      21\n"
     ]
    }
   ],
   "execution_count": 15
  },
  {
   "metadata": {},
   "cell_type": "markdown",
   "source": [
    "---\n",
    "## 5. Final Output Preparation"
   ],
   "id": "531061f4c8e8c776"
  },
  {
   "metadata": {
    "ExecuteTime": {
     "end_time": "2025-04-05T22:52:39.506393Z",
     "start_time": "2025-04-05T22:52:39.445375Z"
    }
   },
   "cell_type": "code",
   "source": [
    "df_unique = df[[\"Course Symbol\", \"Course Name\"]].drop_duplicates().set_index(\"Course Symbol\")\n",
    "df_student_count = df[[\"Student Name\", \"Course Symbol\"]].groupby(\"Course Symbol\").count().rename(\n",
    "    columns={\"Student Name\": \"Number of Students\"})\n",
    "\n",
    "final_output = results[\"Largest First\"].set_index(\"Course Symbol\")\n",
    "final_output = final_output.join(df_unique).join(df_student_count).sort_values(\"Period\")\n",
    "final_output.to_excel(\"combined_course_scheduling.xlsx\")\n",
    "\n",
    "print(\"\\nFinal schedule saved to 'combined_course_scheduling.xlsx'\")"
   ],
   "id": "240e14a3c67635f1",
   "outputs": [
    {
     "name": "stdout",
     "output_type": "stream",
     "text": [
      "\n",
      "Final schedule saved to 'combined_course_scheduling.xlsx'\n"
     ]
    }
   ],
   "execution_count": 16
  },
  {
   "metadata": {},
   "cell_type": "markdown",
   "source": [
    "---\n",
    "## 6. Visualization"
   ],
   "id": "2c39caac96be0e30"
  },
  {
   "metadata": {
    "ExecuteTime": {
     "end_time": "2025-04-05T22:52:40.094922Z",
     "start_time": "2025-04-05T22:52:39.538355Z"
    }
   },
   "cell_type": "code",
   "source": [
    "pos = nx.spring_layout(Graph)\n",
    "plt.figure(figsize=(12, 8))\n",
    "nx.draw_networkx(Graph, pos, with_labels=False, node_color=\"gold\", node_size=10)\n",
    "plt.title(\"Course Conflict Graph\")\n",
    "plt.show()"
   ],
   "id": "6e25edef738ae355",
   "outputs": [
    {
     "data": {
      "text/plain": [
       "<Figure size 1200x800 with 1 Axes>"
      ],
      "image/png": "[encoded data removed]"
     },
     "metadata": {},
     "output_type": "display_data"
    }
   ],
   "execution_count": 17
  },
  {
   "metadata": {},
   "cell_type": "markdown",
   "source": [
    "---\n",
    "## `Abdelrahman Ahmed Abdelmonem `\n",
    "### `23011311`\n",
    "---"
   ],
   "id": "f1e4e5635d3aca9a"
  }
 ],
 "metadata": {
  "kernelspec": {
   "display_name": "Python 3",
   "language": "python",
   "name": "python3"
  },
  "language_info": {
   "codemirror_mode": {
    "name": "ipython",
    "version": 2
   },
   "file_extension": ".py",
   "mimetype": "text/x-python",
   "name": "python",
   "nbconvert_exporter": "python",
   "pygments_lexer": "ipython2",
   "version": "2.7.6"
  }
 },
 "nbformat": 4,
 "nbformat_minor": 5
}
